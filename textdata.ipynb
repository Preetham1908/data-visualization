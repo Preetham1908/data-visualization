{
  "nbformat": 4,
  "nbformat_minor": 0,
  "metadata": {
    "colab": {
      "provenance": [],
      "mount_file_id": "1aZw5tR6Uv6vrc24A0wUXVrFsapMDKQ-j",
      "authorship_tag": "ABX9TyNUXBXGFrAag2g8S37+lYNG",
      "include_colab_link": true
    },
    "kernelspec": {
      "name": "python3",
      "display_name": "Python 3"
    },
    "language_info": {
      "name": "python"
    }
  },
  "cells": [
    {
      "cell_type": "markdown",
      "metadata": {
        "id": "view-in-github",
        "colab_type": "text"
      },
      "source": [
        "<a href=\"https://colab.research.google.com/github/Preetham1908/data-visualization/blob/main/textdata.ipynb\" target=\"_parent\"><img src=\"https://colab.research.google.com/assets/colab-badge.svg\" alt=\"Open In Colab\"/></a>"
      ]
    },
    {
      "cell_type": "code",
      "execution_count": 1,
      "metadata": {
        "id": "CUQ_gkJGwvoX"
      },
      "outputs": [],
      "source": [
        "import pandas as pd\n",
        "import matplotlib.pyplot as plt\n",
        "from wordcloud import WordCloud\n",
        "from wordcloud import STOPWORDS"
      ]
    },
    {
      "cell_type": "code",
      "source": [
        "df=pd.read_csv('/content/drive/MyDrive/netflix_titles.csv',usecols=['cast'])\n",
        "df.head()"
      ],
      "metadata": {
        "id": "0JNZr_caw2Eq"
      },
      "execution_count": null,
      "outputs": []
    },
    {
      "cell_type": "code",
      "source": [
        "ndf=df.dropna()\n",
        "ndf.head()"
      ],
      "metadata": {
        "id": "XmphTMTjxLQp"
      },
      "execution_count": null,
      "outputs": []
    },
    {
      "cell_type": "code",
      "source": [
        "text=\" \".join(item for item in ndf['cast'])\n",
        "print(text)"
      ],
      "metadata": {
        "id": "wBNGcwFfxQDw"
      },
      "execution_count": null,
      "outputs": []
    },
    {
      "cell_type": "code",
      "source": [
        "wordcloud=WordCloud(background_color=\"black\",\n",
        "                    max_words=100,\n",
        "                    max_font_size=300,\n",
        "                    width=800,\n",
        "                    height=500,\n",
        "                    colormap=\"plasma\"\n",
        "                    ).generate(text)\n",
        "plt.figure(figsize=(20,20))\n",
        "plt.imshow(wordcloud, interpolation='bilinear')\n",
        "plt.axis(\"off\")\n",
        "plt.margins(x=0,y=0)\n",
        "plt.show()"
      ],
      "metadata": {
        "id": "wjzqbqh3xVIA"
      },
      "execution_count": null,
      "outputs": []
    }
  ]
}